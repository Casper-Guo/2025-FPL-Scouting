{
 "cells": [
  {
   "cell_type": "code",
   "execution_count": null,
   "id": "4c8b74e7",
   "metadata": {},
   "outputs": [],
   "source": [
    "import pandas as pd\n",
    "import seaborn as sns\n",
    "import matplotlib.pyplot as plt"
   ]
  },
  {
   "cell_type": "code",
   "execution_count": null,
   "id": "660a46bb",
   "metadata": {},
   "outputs": [],
   "source": [
    "df_fpl = pd.read_csv(\"clean/fpl_api_2425.csv\")\n",
    "df_fpl[\"points_per_90\"] = df_fpl[\"total_points\"] / (df_fpl[\"minutes\"] / 90)\n",
    "df_starters = df_fpl[df_fpl[\"minutes\"] >= 1500]"
   ]
  },
  {
   "cell_type": "code",
   "execution_count": null,
   "id": "8f86b38a",
   "metadata": {},
   "outputs": [],
   "source": [
    "sns.violinplot(data=df_starters, x=\"position\", y=\"total_points\", inner=\"box\")\n",
    "plt.title(\"Points Distribution by Position\")"
   ]
  },
  {
   "cell_type": "code",
   "execution_count": null,
   "id": "cbdee5d6",
   "metadata": {},
   "outputs": [],
   "source": [
    "for team, group in df_starters.groupby(\"team_name\"):\n",
    "    sorted_ict = group[\"ict_index\"].sort_values(ascending=False).reset_index(drop=True)\n",
    "    cdf = sorted_ict.cumsum() / sorted_ict.sum()\n",
    "    print(team, cdf.loc[[2, 4]], sep=\"\\n\")"
   ]
  },
  {
   "cell_type": "code",
   "execution_count": null,
   "id": "8c9c49e0",
   "metadata": {},
   "outputs": [],
   "source": [
    "top3_by_team = (\n",
    "    df_starters.sort_values(['team_name', 'total_points'], ascending=[True, False])\n",
    "    .groupby('team_name')\n",
    "    .head(3)\n",
    "    .loc[:, ['team_name', 'web_name', 'total_points']]\n",
    ")\n",
    "\n",
    "top3_by_team"
   ]
  },
  {
   "cell_type": "code",
   "execution_count": null,
   "id": "19f85332",
   "metadata": {},
   "outputs": [],
   "source": [
    "top3_points_per_90 = (\n",
    "    df_fpl[df_fpl[\"starts\"] >= 5].sort_values([\"team_name\", \"points_per_90\"], ascending=[True, False])\n",
    "    .groupby(\"team_name\")\n",
    "    .head(3)\n",
    "    .loc[:, [\"team_name\", \"web_name\", \"points_per_90\"]]\n",
    ")\n",
    "\n",
    "top3_points_per_90"
   ]
  },
  {
   "cell_type": "code",
   "execution_count": null,
   "id": "8e095413",
   "metadata": {},
   "outputs": [],
   "source": [
    "df_gkp = df_fpl[df_fpl[\"position\"] == \"GKP\"]\n",
    "df_gkp_starter = df_gkp[df_gkp[\"starts\"] >= 20]\n",
    "\n",
    "df_gkp[\"appearance_points\"] = df_gkp[\"minutes\"] / 90 * 2\n",
    "df_gkp[\"assist_points\"] = df_gkp[\"assists\"] * 3\n",
    "df_gkp[\"clean_sheet_points\"] = df_gkp[\"clean_sheets\"] * 4\n",
    "df_gkp[\"save_points\"] = (df_gkp[\"saves\"] // 3)\n",
    "df_gkp[\"penalty_save_points\"] = df_gkp[\"penalties_saved\"] * 5\n",
    "df_gkp[\"goals_against_points\"] = df_gkp[\"goals_conceded\"] * -1"
   ]
  },
  {
   "cell_type": "code",
   "execution_count": null,
   "id": "2cd87fcc",
   "metadata": {},
   "outputs": [],
   "source": [
    "(df_gkp_starter[\"clean_sheet_points\"] / df_gkp_starter[\"total_points\"]).describe()"
   ]
  },
  {
   "cell_type": "code",
   "execution_count": null,
   "id": "60617b49",
   "metadata": {},
   "outputs": [],
   "source": [
    "df_defender = df_fpl[df_fpl[\"position\"] == \"DEF\"]\n",
    "\n",
    "df_defender[\"appearance_points\"] = df_defender[\"minutes\"] / 90 * 2\n",
    "df_defender[\"goal_points\"] = df_defender[\"goals_scored\"] * 6\n",
    "df_defender[\"assist_points\"] = df_defender[\"assists\"] * 3\n",
    "df_defender[\"clean_sheet_points\"] = df_defender[\"clean_sheets\"] * 4\n",
    "df_defender[\"goals_against_points\"] = df_defender[\"goals_conceded\"] * -1\n",
    "\n",
    "df_defender_starter = df_defender[df_defender[\"minutes\"] >= 1200]"
   ]
  },
  {
   "cell_type": "code",
   "execution_count": null,
   "id": "38791040",
   "metadata": {},
   "outputs": [],
   "source": [
    "(df_defender_starter[\"goals_against_points\"] / df_defender_starter[\"total_points\"]).describe()"
   ]
  },
  {
   "cell_type": "code",
   "execution_count": null,
   "id": "e1c19e27",
   "metadata": {},
   "outputs": [],
   "source": [
    "df_midfielder = df_fpl[df_fpl[\"position\"] == \"MID\"]\n",
    "\n",
    "df_midfielder[\"appearance_points\"] = df_midfielder[\"minutes\"] / 90 * 2\n",
    "df_midfielder[\"goal_points\"] = df_midfielder[\"goals_scored\"] * 5\n",
    "df_midfielder[\"assist_points\"] = df_midfielder[\"assists\"] * 3\n",
    "df_midfielder[\"clean_sheet_points\"] = df_midfielder[\"clean_sheets\"] * 1\n",
    "\n",
    "df_midfielder_starter = df_midfielder[df_midfielder[\"minutes\"] >= 1500]"
   ]
  },
  {
   "cell_type": "code",
   "execution_count": null,
   "id": "f90572c8",
   "metadata": {},
   "outputs": [],
   "source": [
    "(df_midfielder_starter[\"goal_points\"] / df_midfielder_starter[\"total_points\"]).describe()"
   ]
  },
  {
   "cell_type": "code",
   "execution_count": null,
   "id": "b417dc49",
   "metadata": {},
   "outputs": [],
   "source": [
    "df_forward = df_fpl[df_fpl[\"position\"] == \"FWD\"]\n",
    "\n",
    "df_forward[\"appearance_points\"] = df_forward[\"minutes\"] / 90 * 2\n",
    "df_forward[\"goal_points\"] = df_forward[\"goals_scored\"] * 4\n",
    "df_forward[\"assist_points\"] = df_forward[\"assists\"] * 3\n",
    "\n",
    "df_forward_starter = df_forward[df_forward[\"minutes\"] >= 1700]"
   ]
  },
  {
   "cell_type": "code",
   "execution_count": null,
   "id": "c304c90e",
   "metadata": {},
   "outputs": [],
   "source": [
    "(df_forward_starter[\"goal_points\"] / df_forward_starter[\"total_points\"]).describe()"
   ]
  }
 ],
 "metadata": {
  "kernelspec": {
   "display_name": "Python 3",
   "language": "python",
   "name": "python3"
  },
  "language_info": {
   "codemirror_mode": {
    "name": "ipython",
    "version": 3
   },
   "file_extension": ".py",
   "mimetype": "text/x-python",
   "name": "python",
   "nbconvert_exporter": "python",
   "pygments_lexer": "ipython3",
   "version": "3.10.12"
  }
 },
 "nbformat": 4,
 "nbformat_minor": 5
}
