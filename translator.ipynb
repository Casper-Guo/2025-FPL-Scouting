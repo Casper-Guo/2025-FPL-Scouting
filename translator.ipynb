{
 "cells": [
  {
   "cell_type": "markdown",
   "id": "d8e9ff89",
   "metadata": {},
   "source": [
    "Maps FBRef player names to FPL APIL player codes"
   ]
  },
  {
   "cell_type": "code",
   "execution_count": null,
   "id": "518cef8c",
   "metadata": {},
   "outputs": [],
   "source": [
    "import pandas as pd\n",
    "import rapidfuzz"
   ]
  },
  {
   "cell_type": "code",
   "execution_count": null,
   "id": "5959a92e",
   "metadata": {},
   "outputs": [],
   "source": [
    "df_fbref = pd.read_csv(\"clean/fbref_general.csv\", usecols=[\"team\", \"player\", \"pos\", \"born\"])\n",
    "df_fpl_api = pd.read_csv(\"clean/fpl_api_2425.csv\", usecols=[\"birth_date\", \"code\", \"first_name\", \"second_name\", \"web_name\", \"position\", \"team_name\"])\n",
    "df_fpl_api[\"full_name\"] = df_fpl_api[\"first_name\"] + \" \" + df_fpl_api[\"second_name\"]"
   ]
  },
  {
   "cell_type": "code",
   "execution_count": null,
   "id": "a1f481fe",
   "metadata": {},
   "outputs": [],
   "source": [
    "def map_player_names(fbref_row, df_fpl_api, score_cutoff: int = 80, ret_limit: int = 5) -> tuple[str, int]:\n",
    "    matches = rapidfuzz.process.extract(\n",
    "        query=fbref_row.loc[\"player\"],\n",
    "        choices=df_fpl_api[\"full_name\"],\n",
    "        scorer=rapidfuzz.fuzz.token_set_ratio,\n",
    "        score_cutoff=score_cutoff,\n",
    "        limit=ret_limit\n",
    "    )\n",
    "    if len(matches) == 1:\n",
    "        choice, _, index = matches[0]\n",
    "        return choice, df_fpl_api.iloc[index][\"code\"]\n",
    "    else:\n",
    "        for choice, _, index in matches:\n",
    "            print(f\"Potential match: FBRef={fbref_row.loc[\"player\"]}, FPL={choice}\")\n",
    "            print(fbref_row)\n",
    "            print(df_fpl_api.iloc[index])\n",
    "            print(\"-\"*80)\n",
    "            confirmation = input(\"Is this a match? (y/n): \").strip().lower()\n",
    "            if confirmation == \"y\":\n",
    "                return choice, df_fpl_api.iloc[index][\"code\"]\n",
    "    return \"\", -1"
   ]
  },
  {
   "cell_type": "code",
   "execution_count": null,
   "id": "5b7a01e2",
   "metadata": {},
   "outputs": [],
   "source": [
    "mapped: dict[str, int] = {}\n",
    "failed_matches = []\n",
    "\n",
    "for idx, row in df_fbref.iterrows():\n",
    "    player_name, code = map_player_names(row, df_fpl_api)\n",
    "    if code != -1:\n",
    "        mapped[player_name] = code\n",
    "    else:\n",
    "        failed_matches.append((idx, row.loc[\"player\"]))"
   ]
  },
  {
   "cell_type": "code",
   "execution_count": null,
   "id": "db9cf4ec",
   "metadata": {},
   "outputs": [],
   "source": [
    "len(failed_matches)"
   ]
  },
  {
   "cell_type": "code",
   "execution_count": null,
   "id": "ae43bf8e",
   "metadata": {},
   "outputs": [],
   "source": [
    "df_translate = pd.DataFrame.from_dict({\"fbref_name\": list(mapped.keys()), \"fpl_code\": list(mapped.values())})\n",
    "df_translate.to_csv(\"clean/fbref_to_fpl_api_2425.csv\", index=False)"
   ]
  }
 ],
 "metadata": {
  "kernelspec": {
   "display_name": "Python 3",
   "language": "python",
   "name": "python3"
  },
  "language_info": {
   "codemirror_mode": {
    "name": "ipython",
    "version": 3
   },
   "file_extension": ".py",
   "mimetype": "text/x-python",
   "name": "python",
   "nbconvert_exporter": "python",
   "pygments_lexer": "ipython3",
   "version": "3.12.3"
  }
 },
 "nbformat": 4,
 "nbformat_minor": 5
}
