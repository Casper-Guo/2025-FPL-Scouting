{
 "cells": [
  {
   "cell_type": "code",
   "execution_count": 1,
   "id": "058c9818",
   "metadata": {},
   "outputs": [],
   "source": [
    "import pandas as pd"
   ]
  },
  {
   "cell_type": "code",
   "execution_count": 2,
   "id": "8349ad24",
   "metadata": {},
   "outputs": [],
   "source": [
    "df_players = pd.read_csv(\n",
    "    \"raw/fpl_players.csv\",\n",
    "    usecols=[\n",
    "        \"code\",\n",
    "        \"element_type\",\n",
    "        # expected points\n",
    "        \"ep_next\",\n",
    "        \"ep_this\",\n",
    "        \"first_name\",\n",
    "        \"id\",\n",
    "        \"points_per_game\",\n",
    "        \"second_name\",\n",
    "        \"squad_number\",\n",
    "        # team id\n",
    "        \"team\",\n",
    "        \"total_points\",\n",
    "        \"web_name\",\n",
    "        \"team_join_date\",\n",
    "        \"birth_date\",\n",
    "        \"minutes\",\n",
    "        \"goals_scored\",\n",
    "        \"assists\",\n",
    "        \"clean_sheets\",\n",
    "        \"goals_conceded\",\n",
    "        \"own_goals\",\n",
    "        \"penalties_saved\",\n",
    "        \"penalties_missed\",\n",
    "        \"yellow_cards\",\n",
    "        \"red_cards\",\n",
    "        \"saves\",\n",
    "        \"bonus\",\n",
    "        \"bps\",\n",
    "        \"influence\",\n",
    "        \"creativity\",\n",
    "        \"threat\",\n",
    "        \"ict_index\",\n",
    "        \"defensive_contribution\",\n",
    "        \"starts\",\n",
    "        \"expected_goals\",\n",
    "        \"expected_assists\",\n",
    "        \"expected_goal_involvements\",\n",
    "        \"expected_goals_conceded\",\n",
    "        \"influence_rank\",\n",
    "        \"creativity_rank\",\n",
    "        \"threat_rank\",\n",
    "        \"ict_index_rank\",\n",
    "        \"corners_and_indirect_freekicks_order\",\n",
    "        \"direct_freekicks_order\",\n",
    "        \"penalties_order\",\n",
    "        \"expected_goals_per_90\",\n",
    "        \"saves_per_90\",\n",
    "        \"expected_assists_per_90\",\n",
    "        \"expected_goal_involvements_per_90\",\n",
    "        \"expected_goals_conceded_per_90\",\n",
    "        \"goals_conceded_per_90\",\n",
    "        \"points_per_game_rank\",\n",
    "        \"starts_per_90\",\n",
    "        \"clean_sheets_per_90\"\n",
    "    ]\n",
    ")\n",
    "df_positions = pd.read_csv(\n",
    "    \"raw/fpl_positions.csv\",\n",
    "    usecols=[\"id\", \"singular_name_short\"]\n",
    ")\n",
    "df_teams = pd.read_csv(\n",
    "    \"raw/fpl_teams.csv\",\n",
    "    usecols=[\"id\", \"name\", \"short_name\"]\n",
    ")"
   ]
  },
  {
   "cell_type": "code",
   "execution_count": 3,
   "id": "9e31f22a",
   "metadata": {},
   "outputs": [],
   "source": [
    "df_teams = df_teams.rename(columns={\"name\": \"team_name\", \"short_name\": \"team_short_name\"})\n",
    "df_positions = df_positions.rename(columns={\"singular_name_short\": \"position\"})"
   ]
  },
  {
   "cell_type": "code",
   "execution_count": 4,
   "id": "2cf63960",
   "metadata": {},
   "outputs": [],
   "source": [
    "df_players = pd.merge(df_players, df_positions, left_on=\"element_type\", right_on=\"id\", how=\"left\", suffixes=(None, \"_position\"))\n",
    "df_players = df_players.drop(columns=[\"element_type\", \"id_position\"])\n",
    "df_players = pd.merge(df_players, df_teams, left_on=\"team\", right_on=\"id\", how=\"left\", suffixes=(None, \"_team\"))\n",
    "df_players = df_players.drop(columns=[\"team\", \"id_team\"])"
   ]
  },
  {
   "cell_type": "code",
   "execution_count": null,
   "id": "3e664e04",
   "metadata": {},
   "outputs": [],
   "source": [
    "df_players = df_players.set_index(\"id\")\n",
    "df_players.to_csv(\"clean/fpl_api_2526.csv\")"
   ]
  }
 ],
 "metadata": {
  "kernelspec": {
   "display_name": "Python 3",
   "language": "python",
   "name": "python3"
  },
  "language_info": {
   "codemirror_mode": {
    "name": "ipython",
    "version": 3
   },
   "file_extension": ".py",
   "mimetype": "text/x-python",
   "name": "python",
   "nbconvert_exporter": "python",
   "pygments_lexer": "ipython3",
   "version": "3.12.3"
  }
 },
 "nbformat": 4,
 "nbformat_minor": 5
}
